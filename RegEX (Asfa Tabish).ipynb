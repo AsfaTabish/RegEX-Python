{
 "cells": [
  {
   "cell_type": "markdown",
   "id": "c5078086",
   "metadata": {},
   "source": [
    "# Assignment 1: Extracting Phone Numbers\n",
    "\n",
    "### Raw Text: Extract all valid Pakistani phone numbers from a given text.\n",
    "\n",
    "### Example:\n",
    "\n",
    "### Text: Please contact me at 0301-1234567 or 042-35678901 for further details."
   ]
  },
  {
   "cell_type": "code",
   "execution_count": 2,
   "id": "4db9a4d6",
   "metadata": {},
   "outputs": [
    {
     "data": {
      "text/plain": [
       "['0301-1234567']"
      ]
     },
     "execution_count": 2,
     "metadata": {},
     "output_type": "execute_result"
    }
   ],
   "source": [
    "import re\n",
    "\n",
    "text = \"\"\"\n",
    "Please contact me at 0301-1234567 or 042-35678901 for further details\n",
    "\"\"\"\n",
    "pattern = r\"\\b(\\d{4}\\-\\d{7})\\b\"\n",
    "\n",
    "re.findall(pattern,text,re.MULTILINE)\n"
   ]
  },
  {
   "cell_type": "markdown",
   "id": "e39403cd",
   "metadata": {},
   "source": [
    "# Assignment 2: Validating Email Addresses\n",
    "\n",
    "### Raw Text: Validate email addresses according to Pakistani domain extensions (.pk).\n",
    "\n",
    "\n",
    "### Example:\n",
    "\n",
    "\n",
    "### Text: Contact us at info@example.com or support@domain.pk for assistance."
   ]
  },
  {
   "cell_type": "code",
   "execution_count": 10,
   "id": "06d1aaad",
   "metadata": {},
   "outputs": [
    {
     "data": {
      "text/plain": [
       "['support@domain.pk']"
      ]
     },
     "execution_count": 10,
     "metadata": {},
     "output_type": "execute_result"
    }
   ],
   "source": [
    "text = \"\"\"\n",
    "Contact us at info@example.com or support@domain.pk for assistance\n",
    "\"\"\"\n",
    "pattern = r\"\\b([\\w\\-\\.]+@[\\w]+\\.pk)\\b\"\n",
    "\n",
    "re.findall(pattern,text,re.MULTILINE)\n",
    "    "
   ]
  },
  {
   "cell_type": "markdown",
   "id": "ecbb744f",
   "metadata": {},
   "source": [
    "# Assignment 3: Extracting CNIC Numbers\n",
    "\n",
    "### Raw Text: Extract all Pakistani CNIC (Computerized National Identity Card) numbers from a given text.\n",
    "\n",
    "### Example:\n",
    "\n",
    "### Text: My CNIC is 12345-6789012-3 and another one is 34567-8901234-5."
   ]
  },
  {
   "cell_type": "code",
   "execution_count": 11,
   "id": "a533ec1a",
   "metadata": {},
   "outputs": [
    {
     "data": {
      "text/plain": [
       "['12345-6789012-3', '34567-8901234-5']"
      ]
     },
     "execution_count": 11,
     "metadata": {},
     "output_type": "execute_result"
    }
   ],
   "source": [
    "text = \"\"\"\n",
    "My CNIC is 12345-6789012-3 and another one is 34567-8901234-5\n",
    "\"\"\"\n",
    "pattern = r\"\\b(\\d{5}\\-\\d{7}\\-\\d{1})\\b\"\n",
    "\n",
    "re.findall(pattern,text,re.MULTILINE)"
   ]
  },
  {
   "cell_type": "markdown",
   "id": "cfb74710",
   "metadata": {},
   "source": [
    "# Assignment 4: Identifying Urdu Words\n",
    "\n",
    "### Raw Text: Identify and extract Urdu words from a mixed English-Urdu text.\n",
    "\n",
    "### Example:\n",
    "\n",
    "### Text: یہ sentence میں کچھ English words بھی ہیں۔"
   ]
  },
  {
   "cell_type": "code",
   "execution_count": 15,
   "id": "bbd66c06",
   "metadata": {},
   "outputs": [
    {
     "data": {
      "text/plain": [
       "['یہ', 'میں', 'کچھ', 'ہیں']"
      ]
     },
     "execution_count": 15,
     "metadata": {},
     "output_type": "execute_result"
    }
   ],
   "source": [
    "text = \"\"\"\n",
    "یہ sentence میں کچھ English wordsبھی ہیں۔ \n",
    "\"\"\"\n",
    "pattern = r\"\\b([^\\s\\-a-zA-Z]+\\b)\"\n",
    "\n",
    "re.findall(pattern,text,re.MULTILINE)"
   ]
  },
  {
   "cell_type": "markdown",
   "id": "e7deb8b4",
   "metadata": {},
   "source": [
    "# Assignment 5: Finding Dates\n",
    "\n",
    "###  Raw Text: Find and extract dates in the format DD-MM-YYYY from a given text.\n",
    "\n",
    "### Example:\n",
    "\n",
    "### Text: The event will take place on 15-08-2023 and 23-09-2023."
   ]
  },
  {
   "cell_type": "code",
   "execution_count": 16,
   "id": "c89a904c",
   "metadata": {},
   "outputs": [
    {
     "data": {
      "text/plain": [
       "['15-08-2023', '23-09-2023']"
      ]
     },
     "execution_count": 16,
     "metadata": {},
     "output_type": "execute_result"
    }
   ],
   "source": [
    "text = \"\"\"\n",
    "The event will take place on 15-08-2023 and 23-09-2023\n",
    "\"\"\"\n",
    "pattern = r\"\\b(\\d{1,2}\\-\\d{1,2}\\-\\d{2,4})\\b\"\n",
    "\n",
    "re.findall(pattern,text,re.MULTILINE)"
   ]
  },
  {
   "cell_type": "markdown",
   "id": "446a02de",
   "metadata": {},
   "source": [
    "# Assignment 6: Extracting URLs\n",
    "\n",
    "### Raw Text: Extract all URLs from a text that belong to Pakistani domains.\n",
    "\n",
    "### Example:\n",
    "\n",
    "### Text: Visit http://www.example.pk or https://website.com.pk for more information."
   ]
  },
  {
   "cell_type": "code",
   "execution_count": 20,
   "id": "f75104e2",
   "metadata": {},
   "outputs": [
    {
     "data": {
      "text/plain": [
       "['http://www.example.pk', 'https://website.com.pk']"
      ]
     },
     "execution_count": 20,
     "metadata": {},
     "output_type": "execute_result"
    }
   ],
   "source": [
    "text = \"\"\"\n",
    "Visit http://www.example.pk or https://website.com.pk for more information.\n",
    "\"\"\"\n",
    "pattern = r\"\\b([https://]+[\\w]+\\.[\\w]+\\.pk)\\b\"\n",
    "\n",
    "re.findall(pattern,text,re.MULTILINE)"
   ]
  },
  {
   "cell_type": "markdown",
   "id": "9d441527",
   "metadata": {},
   "source": [
    "# Assignment 7: Analyzing Currency\n",
    "\n",
    "### Raw Text: Extract and analyze currency amounts in Pakistani Rupees (PKR) from a given text.\n",
    "\n",
    "### Example:\n",
    "\n",
    "### Text: The product costs PKR 1500, while the deluxe version is priced at Rs. 2500."
   ]
  },
  {
   "cell_type": "code",
   "execution_count": 35,
   "id": "26ac975c",
   "metadata": {},
   "outputs": [
    {
     "data": {
      "text/plain": [
       "['1500', '2500']"
      ]
     },
     "execution_count": 35,
     "metadata": {},
     "output_type": "execute_result"
    }
   ],
   "source": [
    "text = \"\"\"\n",
    "The product costs PKR 1500, while the deluxe version is priced at Rs. 2500.\n",
    "\"\"\"\n",
    "\n",
    "pattern = r\"\\b(?:[PKRs]+\\.?\\s(\\d{4}))\\b\"\n",
    "\n",
    "re.findall(pattern,text,re.MULTILINE)"
   ]
  },
  {
   "cell_type": "markdown",
   "id": "8215c8a4",
   "metadata": {},
   "source": [
    "# Assignment 8: Removing Punctuation\n",
    "\n",
    "### Raw Text: Remove all punctuation marks from a text while preserving Urdu characters.\n",
    "\n",
    "### Example:\n",
    "\n",
    "### Text: کیا! آپ, یہاں؟"
   ]
  },
  {
   "cell_type": "code",
   "execution_count": 37,
   "id": "74f6f736",
   "metadata": {},
   "outputs": [
    {
     "data": {
      "text/plain": [
       "['کیا', 'آپ', 'یہاں']"
      ]
     },
     "execution_count": 37,
     "metadata": {},
     "output_type": "execute_result"
    }
   ],
   "source": [
    "text = \"\"\"\n",
    "کیا! آپ, یہاں؟\n",
    "\"\"\"\n",
    "\n",
    "pattern = r\"\\b([^\\W]+)\\b\"\n",
    "\n",
    "re.findall(pattern,text,re.MULTILINE)"
   ]
  },
  {
   "cell_type": "markdown",
   "id": "2393b7de",
   "metadata": {},
   "source": [
    "# Assignment 9: Extracting City Names\n",
    "\n",
    "### Raw Text: Extract names of Pakistani cities from a given text.\n",
    "\n",
    "### Example:\n",
    "\n",
    "### Text: Lahore, Karachi, Islamabad, and Peshawar are major cities of Pakistan.\n",
    "\n"
   ]
  },
  {
   "cell_type": "code",
   "execution_count": 43,
   "id": "cdd647cc",
   "metadata": {},
   "outputs": [
    {
     "data": {
      "text/plain": [
       "[('Lahore', 'Karachi', 'Islamabad', 'Peshawar')]"
      ]
     },
     "execution_count": 43,
     "metadata": {},
     "output_type": "execute_result"
    }
   ],
   "source": [
    "text = \"\"\"\n",
    "Lahore, Karachi, Islamabad, and Peshawar are major cities of Pakistan.\n",
    "\"\"\"\n",
    "pattern = r\"\\b(?:([\\w]+)\\,\\s([\\w]+)\\,\\s([\\w]+)\\,\\sand\\s([\\w]+))\\b\"\n",
    "\n",
    "re.findall(pattern,text,re.MULTILINE)"
   ]
  },
  {
   "cell_type": "markdown",
   "id": "7f0ed109",
   "metadata": {},
   "source": [
    "# Assignment 10: Analyzing Vehicle Numbers\n",
    "\n",
    "### Raw Text: Identify and extract Pakistani vehicle registration numbers (e.g., ABC-123) from a text.\n",
    "\n",
    "### Example:\n",
    "\n",
    "### Text: I saw a car with the number plate LEA-567 near the market."
   ]
  },
  {
   "cell_type": "code",
   "execution_count": 50,
   "id": "103c7425",
   "metadata": {},
   "outputs": [
    {
     "data": {
      "text/plain": [
       "['LEA-567']"
      ]
     },
     "execution_count": 50,
     "metadata": {},
     "output_type": "execute_result"
    }
   ],
   "source": [
    "text = \"\"\"\n",
    "I saw a car with the number plate LEA-567 near the market\n",
    "\"\"\"\n",
    "\n",
    "pattern = r\"\\b(\\D{3}\\-\\d{3})\\b\"\n",
    "\n",
    "re.findall(pattern,text,re.MULTILINE)"
   ]
  }
 ],
 "metadata": {
  "kernelspec": {
   "display_name": "Python 3 (ipykernel)",
   "language": "python",
   "name": "python3"
  },
  "language_info": {
   "codemirror_mode": {
    "name": "ipython",
    "version": 3
   },
   "file_extension": ".py",
   "mimetype": "text/x-python",
   "name": "python",
   "nbconvert_exporter": "python",
   "pygments_lexer": "ipython3",
   "version": "3.11.3"
  }
 },
 "nbformat": 4,
 "nbformat_minor": 5
}
